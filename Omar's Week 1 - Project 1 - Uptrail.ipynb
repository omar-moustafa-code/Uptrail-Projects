{
 "cells": [
  {
   "cell_type": "markdown",
   "id": "fa6b754f-b053-4511-ac88-44358063444c",
   "metadata": {},
   "source": [
    "# Week 1 - Project: Data Analysis for Business Insights\n",
    "## By: Omar Moustafa"
   ]
  },
  {
   "cell_type": "markdown",
   "id": "6143ac88-1b84-4ea6-be48-b732b0362da5",
   "metadata": {},
   "source": [
    "# Importing the Necessary Libraries"
   ]
  },
  {
   "cell_type": "code",
   "execution_count": 1,
   "id": "33196709-e49f-46ac-9260-1cc5aae41a4b",
   "metadata": {},
   "outputs": [],
   "source": [
    "import numpy as np\n",
    "import pandas as pd\n",
    "import seaborn as sns\n",
    "import matplotlib.pyplot as plt"
   ]
  },
  {
   "cell_type": "markdown",
   "id": "95fde354-cafa-44f3-8883-0cea97cbdca2",
   "metadata": {},
   "source": [
    "# Task 1. Load & Clean the Data"
   ]
  },
  {
   "cell_type": "code",
   "execution_count": 2,
   "id": "f63856e5-b414-43e3-8dbd-e663f4587adf",
   "metadata": {},
   "outputs": [],
   "source": [
    "support_tickets = pd.read_csv(\"support_tickets.csv\")"
   ]
  },
  {
   "cell_type": "code",
   "execution_count": 3,
   "id": "a7f5ba3a-43d8-45fc-b18d-6e44a0212f90",
   "metadata": {},
   "outputs": [
    {
     "data": {
      "text/html": [
       "<div>\n",
       "<style scoped>\n",
       "    .dataframe tbody tr th:only-of-type {\n",
       "        vertical-align: middle;\n",
       "    }\n",
       "\n",
       "    .dataframe tbody tr th {\n",
       "        vertical-align: top;\n",
       "    }\n",
       "\n",
       "    .dataframe thead th {\n",
       "        text-align: right;\n",
       "    }\n",
       "</style>\n",
       "<table border=\"1\" class=\"dataframe\">\n",
       "  <thead>\n",
       "    <tr style=\"text-align: right;\">\n",
       "      <th></th>\n",
       "      <th>ticket_id</th>\n",
       "      <th>customer_id</th>\n",
       "      <th>ticket_date</th>\n",
       "      <th>issue_type</th>\n",
       "      <th>resolved</th>\n",
       "    </tr>\n",
       "  </thead>\n",
       "  <tbody>\n",
       "    <tr>\n",
       "      <th>0</th>\n",
       "      <td>TKT0000-1</td>\n",
       "      <td>CUST00203</td>\n",
       "      <td>2024-08-17</td>\n",
       "      <td>Billing</td>\n",
       "      <td>Yes</td>\n",
       "    </tr>\n",
       "    <tr>\n",
       "      <th>1</th>\n",
       "      <td>TKT0000-2</td>\n",
       "      <td>CUST00203</td>\n",
       "      <td>2024-07-22</td>\n",
       "      <td>Technical Error</td>\n",
       "      <td>Yes</td>\n",
       "    </tr>\n",
       "    <tr>\n",
       "      <th>2</th>\n",
       "      <td>TKT0000-3</td>\n",
       "      <td>CUST00203</td>\n",
       "      <td>2024-07-22</td>\n",
       "      <td>Other</td>\n",
       "      <td>Yes</td>\n",
       "    </tr>\n",
       "    <tr>\n",
       "      <th>3</th>\n",
       "      <td>TKT0001-1</td>\n",
       "      <td>CUST00266</td>\n",
       "      <td>2024-09-26</td>\n",
       "      <td>Account Setup</td>\n",
       "      <td>Yes</td>\n",
       "    </tr>\n",
       "    <tr>\n",
       "      <th>4</th>\n",
       "      <td>TKT0001-2</td>\n",
       "      <td>CUST00266</td>\n",
       "      <td>2024-10-09</td>\n",
       "      <td>Technical Error</td>\n",
       "      <td>No</td>\n",
       "    </tr>\n",
       "  </tbody>\n",
       "</table>\n",
       "</div>"
      ],
      "text/plain": [
       "   ticket_id customer_id ticket_date       issue_type resolved\n",
       "0  TKT0000-1   CUST00203  2024-08-17          Billing      Yes\n",
       "1  TKT0000-2   CUST00203  2024-07-22  Technical Error      Yes\n",
       "2  TKT0000-3   CUST00203  2024-07-22            Other      Yes\n",
       "3  TKT0001-1   CUST00266  2024-09-26    Account Setup      Yes\n",
       "4  TKT0001-2   CUST00266  2024-10-09  Technical Error       No"
      ]
     },
     "execution_count": 3,
     "metadata": {},
     "output_type": "execute_result"
    }
   ],
   "source": [
    "support_tickets.head(5)"
   ]
  },
  {
   "cell_type": "code",
   "execution_count": 4,
   "id": "4e8f5ac1-98b0-411d-a479-7db818998ec0",
   "metadata": {},
   "outputs": [
    {
     "name": "stdout",
     "output_type": "stream",
     "text": [
      "<class 'pandas.core.frame.DataFrame'>\n",
      "RangeIndex: 123 entries, 0 to 122\n",
      "Data columns (total 5 columns):\n",
      " #   Column       Non-Null Count  Dtype \n",
      "---  ------       --------------  ----- \n",
      " 0   ticket_id    123 non-null    object\n",
      " 1   customer_id  123 non-null    object\n",
      " 2   ticket_date  123 non-null    object\n",
      " 3   issue_type   123 non-null    object\n",
      " 4   resolved     123 non-null    object\n",
      "dtypes: object(5)\n",
      "memory usage: 4.9+ KB\n"
     ]
    }
   ],
   "source": [
    "# Identify missing values, data types, and column structure for support_tickets\n",
    "support_tickets.info()"
   ]
  },
  {
   "cell_type": "code",
   "execution_count": 5,
   "id": "60bca940-08e9-452a-ad7a-f837172c58ea",
   "metadata": {},
   "outputs": [
    {
     "data": {
      "text/plain": [
       "ticket_id      0\n",
       "customer_id    0\n",
       "ticket_date    0\n",
       "issue_type     0\n",
       "resolved       0\n",
       "dtype: int64"
      ]
     },
     "execution_count": 5,
     "metadata": {},
     "output_type": "execute_result"
    }
   ],
   "source": [
    "support_tickets.isnull().sum()"
   ]
  },
  {
   "cell_type": "code",
   "execution_count": 6,
   "id": "c6c920bf-7fa1-481a-918e-3db225aaf3f1",
   "metadata": {},
   "outputs": [],
   "source": [
    "customer_signups = pd.read_csv(\"customer_signups.csv\")"
   ]
  },
  {
   "cell_type": "code",
   "execution_count": 7,
   "id": "6958ab35-aaa9-4c57-a07e-5b690a507723",
   "metadata": {},
   "outputs": [
    {
     "data": {
      "text/html": [
       "<div>\n",
       "<style scoped>\n",
       "    .dataframe tbody tr th:only-of-type {\n",
       "        vertical-align: middle;\n",
       "    }\n",
       "\n",
       "    .dataframe tbody tr th {\n",
       "        vertical-align: top;\n",
       "    }\n",
       "\n",
       "    .dataframe thead th {\n",
       "        text-align: right;\n",
       "    }\n",
       "</style>\n",
       "<table border=\"1\" class=\"dataframe\">\n",
       "  <thead>\n",
       "    <tr style=\"text-align: right;\">\n",
       "      <th></th>\n",
       "      <th>customer_id</th>\n",
       "      <th>name</th>\n",
       "      <th>email</th>\n",
       "      <th>signup_date</th>\n",
       "      <th>source</th>\n",
       "      <th>region</th>\n",
       "      <th>plan_selected</th>\n",
       "      <th>marketing_opt_in</th>\n",
       "      <th>age</th>\n",
       "      <th>gender</th>\n",
       "    </tr>\n",
       "  </thead>\n",
       "  <tbody>\n",
       "    <tr>\n",
       "      <th>0</th>\n",
       "      <td>CUST00000</td>\n",
       "      <td>Joshua Bryant</td>\n",
       "      <td>NaN</td>\n",
       "      <td>NaN</td>\n",
       "      <td>Instagram</td>\n",
       "      <td>NaN</td>\n",
       "      <td>basic</td>\n",
       "      <td>No</td>\n",
       "      <td>34</td>\n",
       "      <td>Female</td>\n",
       "    </tr>\n",
       "    <tr>\n",
       "      <th>1</th>\n",
       "      <td>CUST00001</td>\n",
       "      <td>Nicole Stewart</td>\n",
       "      <td>nicole1@example.com</td>\n",
       "      <td>02-01-24</td>\n",
       "      <td>LinkedIn</td>\n",
       "      <td>West</td>\n",
       "      <td>basic</td>\n",
       "      <td>Yes</td>\n",
       "      <td>29</td>\n",
       "      <td>Male</td>\n",
       "    </tr>\n",
       "    <tr>\n",
       "      <th>2</th>\n",
       "      <td>CUST00002</td>\n",
       "      <td>Rachel Allen</td>\n",
       "      <td>rachel2@example.com</td>\n",
       "      <td>03-01-24</td>\n",
       "      <td>Google</td>\n",
       "      <td>North</td>\n",
       "      <td>PREMIUM</td>\n",
       "      <td>Yes</td>\n",
       "      <td>34</td>\n",
       "      <td>Non-Binary</td>\n",
       "    </tr>\n",
       "    <tr>\n",
       "      <th>3</th>\n",
       "      <td>CUST00003</td>\n",
       "      <td>Zachary Sanchez</td>\n",
       "      <td>zachary3@mailhub.org</td>\n",
       "      <td>04-01-24</td>\n",
       "      <td>YouTube</td>\n",
       "      <td>NaN</td>\n",
       "      <td>Pro</td>\n",
       "      <td>No</td>\n",
       "      <td>40</td>\n",
       "      <td>Male</td>\n",
       "    </tr>\n",
       "    <tr>\n",
       "      <th>4</th>\n",
       "      <td>CUST00004</td>\n",
       "      <td>NaN</td>\n",
       "      <td>matthew4@mailhub.org</td>\n",
       "      <td>05-01-24</td>\n",
       "      <td>LinkedIn</td>\n",
       "      <td>West</td>\n",
       "      <td>Premium</td>\n",
       "      <td>No</td>\n",
       "      <td>25</td>\n",
       "      <td>Other</td>\n",
       "    </tr>\n",
       "  </tbody>\n",
       "</table>\n",
       "</div>"
      ],
      "text/plain": [
       "  customer_id             name                 email signup_date     source  \\\n",
       "0   CUST00000    Joshua Bryant                   NaN         NaN  Instagram   \n",
       "1   CUST00001   Nicole Stewart   nicole1@example.com    02-01-24   LinkedIn   \n",
       "2   CUST00002     Rachel Allen   rachel2@example.com    03-01-24     Google   \n",
       "3   CUST00003  Zachary Sanchez  zachary3@mailhub.org    04-01-24    YouTube   \n",
       "4   CUST00004              NaN  matthew4@mailhub.org    05-01-24   LinkedIn   \n",
       "\n",
       "  region plan_selected marketing_opt_in age      gender  \n",
       "0    NaN         basic               No  34      Female  \n",
       "1   West         basic              Yes  29        Male  \n",
       "2  North       PREMIUM              Yes  34  Non-Binary  \n",
       "3    NaN           Pro               No  40        Male  \n",
       "4   West       Premium               No  25       Other  "
      ]
     },
     "execution_count": 7,
     "metadata": {},
     "output_type": "execute_result"
    }
   ],
   "source": [
    "customer_signups.head(5)"
   ]
  },
  {
   "cell_type": "code",
   "execution_count": 8,
   "id": "75ed5144-e9e0-4c88-885f-c0bdf60e2856",
   "metadata": {},
   "outputs": [
    {
     "name": "stdout",
     "output_type": "stream",
     "text": [
      "<class 'pandas.core.frame.DataFrame'>\n",
      "RangeIndex: 300 entries, 0 to 299\n",
      "Data columns (total 10 columns):\n",
      " #   Column            Non-Null Count  Dtype \n",
      "---  ------            --------------  ----- \n",
      " 0   customer_id       298 non-null    object\n",
      " 1   name              291 non-null    object\n",
      " 2   email             266 non-null    object\n",
      " 3   signup_date       298 non-null    object\n",
      " 4   source            291 non-null    object\n",
      " 5   region            270 non-null    object\n",
      " 6   plan_selected     292 non-null    object\n",
      " 7   marketing_opt_in  290 non-null    object\n",
      " 8   age               288 non-null    object\n",
      " 9   gender            292 non-null    object\n",
      "dtypes: object(10)\n",
      "memory usage: 23.6+ KB\n"
     ]
    }
   ],
   "source": [
    "# Identify missing values, data types, and column structure for cusomter_signups\n",
    "customer_signups.info()"
   ]
  },
  {
   "cell_type": "code",
   "execution_count": 9,
   "id": "4cbe51d6-01bb-429d-a5cc-662780311c8c",
   "metadata": {},
   "outputs": [
    {
     "data": {
      "text/plain": [
       "customer_id          2\n",
       "name                 9\n",
       "email               34\n",
       "signup_date          2\n",
       "source               9\n",
       "region              30\n",
       "plan_selected        8\n",
       "marketing_opt_in    10\n",
       "age                 12\n",
       "gender               8\n",
       "dtype: int64"
      ]
     },
     "execution_count": 9,
     "metadata": {},
     "output_type": "execute_result"
    }
   ],
   "source": [
    "customer_signups.isnull().sum()"
   ]
  },
  {
   "cell_type": "code",
   "execution_count": 35,
   "id": "516d2531-067c-411f-9780-cc74b3e5a8b3",
   "metadata": {},
   "outputs": [],
   "source": [
    "# Convert signup_date to datetime\n",
    "customer_signups['signup_date'] = pd.to_datetime(customer_signups['signup_date'], errors = 'coerce')"
   ]
  },
  {
   "cell_type": "code",
   "execution_count": 11,
   "id": "6d8cbc39-8f14-473d-9912-8d0ac189fd48",
   "metadata": {},
   "outputs": [
    {
     "name": "stdout",
     "output_type": "stream",
     "text": [
      "\n",
      "Unique values in 'plan_selected' after standardisation:\n",
      "['Basic' 'Premium' 'Pro' 'Unknownplan' nan 'Prem']\n",
      "\n"
     ]
    }
   ],
   "source": [
    "# standardization plan_selected\n",
    "customer_signups['plan_selected'] = customer_signups['plan_selected'].str.strip().str.capitalize()\n",
    "\n",
    "# Check unique plan_selected values after standardization\n",
    "print(\"\\nUnique values in 'plan_selected' after standardisation:\")\n",
    "print(customer_signups['plan_selected'].unique())\n",
    "\n",
    "print()\n",
    "\n",
    "# standardization gender\n",
    "customer_signups['gender'] = customer_signups['gender'].str.strip().str.capitalize()"
   ]
  },
  {
   "cell_type": "code",
   "execution_count": 12,
   "id": "fd843f50-ca28-4a7d-a0d7-e3c74223e47e",
   "metadata": {},
   "outputs": [
    {
     "name": "stdout",
     "output_type": "stream",
     "text": [
      "\n",
      "Unique values in 'gender' after standardisation:\n",
      "['Female' 'Male' 'Non-binary' 'Other' nan '123']\n"
     ]
    }
   ],
   "source": [
    "# Check unique gender values after standardization\n",
    "print(\"\\nUnique values in 'gender' after standardisation:\")\n",
    "print(customer_signups['gender'].unique())"
   ]
  },
  {
   "cell_type": "code",
   "execution_count": 13,
   "id": "8830fcaf-0022-4b06-9b8c-2a234a608489",
   "metadata": {},
   "outputs": [
    {
     "name": "stdout",
     "output_type": "stream",
     "text": [
      "\n",
      "Removed 1 duplicate rows based on customer_id.\n"
     ]
    }
   ],
   "source": [
    "# Remove duplicate rows based on customer_id so that there is only 1 row per customer\n",
    "before_duplicates = customer_signups.shape[0]\n",
    "customer_signups.drop_duplicates(subset='customer_id', inplace=True)\n",
    "after_duplicates = customer_signups.shape[0]\n",
    "duplicates_removed = before_duplicates - after_duplicates\n",
    "print(f\"\\nRemoved {duplicates_removed} duplicate rows based on customer_id.\")"
   ]
  },
  {
   "cell_type": "code",
   "execution_count": 14,
   "id": "df195856-1654-4870-9337-8d9508d05c3a",
   "metadata": {},
   "outputs": [
    {
     "name": "stdout",
     "output_type": "stream",
     "text": [
      "count    299.000000\n",
      "mean      36.036789\n",
      "std       14.521749\n",
      "min       21.000000\n",
      "25%       25.000000\n",
      "50%       34.000000\n",
      "75%       40.000000\n",
      "max      206.000000\n",
      "Name: age, dtype: float64\n",
      "\n",
      "0\n"
     ]
    }
   ],
   "source": [
    "# Convert 'age' to numeric, coercing errors to NaN\n",
    "customer_signups['age'] = pd.to_numeric(customer_signups['age'], errors='coerce')\n",
    "\n",
    "# Calculate median after conversion\n",
    "median_age = customer_signups['age'].median()\n",
    "\n",
    "# Fill missing age values with median safely (no inplace warning)\n",
    "customer_signups['age'] = customer_signups['age'].fillna(median_age)\n",
    "\n",
    "# Confirm conversion and missingness handled\n",
    "print(customer_signups['age'].describe())\n",
    "print()\n",
    "print(customer_signups['age'].isnull().sum())"
   ]
  },
  {
   "cell_type": "code",
   "execution_count": 15,
   "id": "b29aa79b-6c44-48d1-89d4-7f5535322ad3",
   "metadata": {},
   "outputs": [
    {
     "name": "stdout",
     "output_type": "stream",
     "text": [
      "\n",
      "Customer Signups - Missing Values After Cleaning:\n",
      "customer_id          1\n",
      "name                 9\n",
      "email               34\n",
      "signup_date          6\n",
      "source               9\n",
      "region              30\n",
      "plan_selected        8\n",
      "marketing_opt_in    10\n",
      "age                  0\n",
      "gender               8\n",
      "dtype: int64\n",
      "\n",
      "Customer Signups - Information After Cleaning:\n",
      "<class 'pandas.core.frame.DataFrame'>\n",
      "Index: 299 entries, 0 to 299\n",
      "Data columns (total 10 columns):\n",
      " #   Column            Non-Null Count  Dtype         \n",
      "---  ------            --------------  -----         \n",
      " 0   customer_id       298 non-null    object        \n",
      " 1   name              290 non-null    object        \n",
      " 2   email             265 non-null    object        \n",
      " 3   signup_date       293 non-null    datetime64[ns]\n",
      " 4   source            290 non-null    object        \n",
      " 5   region            269 non-null    object        \n",
      " 6   plan_selected     291 non-null    object        \n",
      " 7   marketing_opt_in  289 non-null    object        \n",
      " 8   age               299 non-null    float64       \n",
      " 9   gender            291 non-null    object        \n",
      "dtypes: datetime64[ns](1), float64(1), object(8)\n",
      "memory usage: 25.7+ KB\n",
      "None\n",
      "\n",
      "Task 1: Data Loading & Cleaning Are Now Complete!\n"
     ]
    }
   ],
   "source": [
    "# Final data check\n",
    "print(\"\\nCustomer Signups - Missing Values After Cleaning:\")\n",
    "print(customer_signups.isnull().sum())\n",
    "\n",
    "print(\"\\nCustomer Signups - Information After Cleaning:\")\n",
    "print(customer_signups.info())\n",
    "\n",
    "print(\"\\nTask 1: Data Loading & Cleaning Are Now Complete!\")"
   ]
  },
  {
   "cell_type": "markdown",
   "id": "a02cf882-1339-459a-bcf3-ac697dbbedac",
   "metadata": {},
   "source": [
    "# Task 2. Data Quality Summary"
   ]
  },
  {
   "cell_type": "code",
   "execution_count": 16,
   "id": "bccdc1d2-c35d-49fa-bb53-f3ba16252f4d",
   "metadata": {},
   "outputs": [],
   "source": [
    "# Count of missing values per column\n",
    "missing_counts = customer_signups.isnull().sum()\n",
    "\n",
    "# Missing percantages\n",
    "missing_percent = (missing_counts / len(customer_signups)) * 100"
   ]
  },
  {
   "cell_type": "code",
   "execution_count": 17,
   "id": "146319d4-829a-4351-ac4c-36978fa658ed",
   "metadata": {},
   "outputs": [],
   "source": [
    "# Number of duplicates removed\n",
    "before_duplicates = customer_signups.duplicated(subset='customer_id').sum() + len(customer_signups)\n",
    "after_duplicates = len(customer_signups)\n",
    "duplicates_removed = before_duplicates - after_duplicates"
   ]
  },
  {
   "cell_type": "code",
   "execution_count": 18,
   "id": "c9ec5bfa-9bc3-4017-ad10-36c3b4df0503",
   "metadata": {},
   "outputs": [],
   "source": [
    "unique_plans = customer_signups['plan_selected'].unique()\n",
    "\n",
    "unique_genders = customer_signups['gender'].unique()"
   ]
  },
  {
   "cell_type": "code",
   "execution_count": 19,
   "id": "39c2ad90-3157-421e-97d2-2facd52c8bef",
   "metadata": {},
   "outputs": [
    {
     "name": "stdout",
     "output_type": "stream",
     "text": [
      "----- Data Quality Summary -----\n",
      "\n",
      "1. Missing Values Count per Column:\n",
      "customer_id          1\n",
      "name                 9\n",
      "email               34\n",
      "signup_date          6\n",
      "source               9\n",
      "region              30\n",
      "plan_selected        8\n",
      "marketing_opt_in    10\n",
      "age                  0\n",
      "gender               8\n",
      "dtype: int64\n",
      "\n",
      "\n",
      "2. Percentage of Missing Values per Column:\n",
      "customer_id          0.334448\n",
      "name                 3.010033\n",
      "email               11.371237\n",
      "signup_date          2.006689\n",
      "source               3.010033\n",
      "region              10.033445\n",
      "plan_selected        2.675585\n",
      "marketing_opt_in     3.344482\n",
      "age                  0.000000\n",
      "gender               2.675585\n",
      "dtype: float64\n",
      "\n",
      "\n",
      "3. Number of Duplicates Removed: 0\n",
      "\n",
      "4. Unique values in 'plan_selected' after standardisation:\n",
      "['Basic' 'Premium' 'Pro' 'Unknownplan' nan]\n",
      "\n",
      "\n",
      "5. Unique values in 'gender' after standardisation:\n",
      "['Female' 'Male' 'Non-binary' 'Other' nan '123']\n"
     ]
    }
   ],
   "source": [
    "print(\"----- Data Quality Summary -----\")\n",
    "print(\"\\n1. Missing Values Count per Column:\")\n",
    "print(missing_counts)\n",
    "print()\n",
    "\n",
    "print(\"\\n2. Percentage of Missing Values per Column:\")\n",
    "print(missing_percent)\n",
    "print()\n",
    "\n",
    "print(f\"\\n3. Number of Duplicates Removed: {duplicates_removed}\")\n",
    "\n",
    "print(\"\\n4. Unique values in 'plan_selected' after standardisation:\")\n",
    "print(unique_plans)\n",
    "print()\n",
    "\n",
    "print(\"\\n5. Unique values in 'gender' after standardisation:\")\n",
    "print(unique_genders)"
   ]
  },
  {
   "cell_type": "markdown",
   "id": "7090f080-c4c4-4503-8dce-87a6f4b98fed",
   "metadata": {},
   "source": [
    "# Task 3. Summary Outputs (Using Pandas Aggregations)"
   ]
  },
  {
   "cell_type": "code",
   "execution_count": 20,
   "id": "15a96bbc-e415-48b1-8276-85617f7ecab4",
   "metadata": {},
   "outputs": [
    {
     "name": "stdout",
     "output_type": "stream",
     "text": [
      "----- Sign-ups Per Week -----\n",
      "              signup_week  signups_count\n",
      "0   2024-01-01/2024-01-07              6\n",
      "1   2024-01-08/2024-01-14              5\n",
      "2   2024-01-15/2024-01-21              7\n",
      "3   2024-01-22/2024-01-28              7\n",
      "4   2024-01-29/2024-02-04              8\n",
      "5   2024-02-05/2024-02-11              6\n",
      "6   2024-02-12/2024-02-18              6\n",
      "7   2024-02-19/2024-02-25              7\n",
      "8   2024-02-26/2024-03-03              7\n",
      "9   2024-03-04/2024-03-10              7\n",
      "10  2024-03-11/2024-03-17              5\n",
      "11  2024-03-18/2024-03-24              6\n",
      "12  2024-03-25/2024-03-31              6\n",
      "13  2024-04-01/2024-04-07              7\n",
      "14  2024-04-08/2024-04-14              5\n",
      "15  2024-04-15/2024-04-21              7\n",
      "16  2024-04-22/2024-04-28              7\n",
      "17  2024-04-29/2024-05-05              6\n",
      "18  2024-05-06/2024-05-12              4\n",
      "19  2024-05-13/2024-05-19              7\n",
      "20  2024-05-20/2024-05-26              7\n",
      "21  2024-05-27/2024-06-02              7\n",
      "22  2024-06-03/2024-06-09              7\n",
      "23  2024-06-10/2024-06-16              5\n",
      "24  2024-06-17/2024-06-23              7\n",
      "25  2024-06-24/2024-06-30              7\n",
      "26  2024-07-01/2024-07-07              7\n",
      "27  2024-07-08/2024-07-14              5\n",
      "28  2024-07-15/2024-07-21              6\n",
      "29  2024-07-22/2024-07-28              7\n",
      "30  2024-07-29/2024-08-04              7\n",
      "31  2024-08-05/2024-08-11              5\n",
      "32  2024-08-12/2024-08-18              6\n",
      "33  2024-08-19/2024-08-25              7\n",
      "34  2024-08-26/2024-09-01              7\n",
      "35  2024-09-02/2024-09-08              7\n",
      "36  2024-09-09/2024-09-15              5\n",
      "37  2024-09-16/2024-09-22              7\n",
      "38  2024-09-23/2024-09-29              7\n",
      "39  2024-09-30/2024-10-06              6\n",
      "40  2024-10-07/2024-10-13              5\n",
      "41  2024-10-14/2024-10-20              6\n",
      "42  2024-10-21/2024-10-27              6\n",
      "43  2024-10-28/2024-11-03              3\n",
      "44  2024-11-04/2024-11-10              7\n",
      "45  2024-11-25/2024-12-01              1\n",
      "46  2024-12-02/2024-12-08              7\n",
      "47  2024-12-09/2024-12-15              2\n",
      "48                    NaT              6\n"
     ]
    }
   ],
   "source": [
    "# Sign-ups per week (grouped by signup_date)\n",
    "customer_signups['signup_week'] = customer_signups['signup_date'].dt.to_period('W').astype(str)\n",
    "\n",
    "signups_per_week = customer_signups.groupby('signup_week')['customer_id'].count().reset_index()\n",
    "signups_per_week.rename(columns={'customer_id': 'signups_count'}, inplace=True)\n",
    "\n",
    "print(\"----- Sign-ups Per Week -----\")\n",
    "print(signups_per_week)"
   ]
  },
  {
   "cell_type": "code",
   "execution_count": 21,
   "id": "defedae7-02de-4f8e-be75-bcfac3b42dc3",
   "metadata": {},
   "outputs": [
    {
     "data": {
      "image/png": "[encoded data removed]",
      "text/plain": [
       "<Figure size 1000x500 with 1 Axes>"
      ]
     },
     "metadata": {},
     "output_type": "display_data"
    }
   ],
   "source": [
    "plt.figure(figsize = (10,5))\n",
    "sns.barplot(data = signups_per_week, x = 'signup_week', y = 'signups_count')\n",
    "plt.xticks(rotation = 45)\n",
    "plt.title('Sign-Ups Per Week')\n",
    "plt.ylabel('Total Number of Sign-Ups')\n",
    "plt.xlabel('Week')\n",
    "plt.tight_layout()\n",
    "plt.show()"
   ]
  },
  {
   "cell_type": "code",
   "execution_count": 22,
   "id": "0df927cd-eb43-4533-8430-24d1b8287670",
   "metadata": {},
   "outputs": [
    {
     "name": "stdout",
     "output_type": "stream",
     "text": [
      "\n",
      "----- Sign-ups By Source -----\n",
      "      source  signups_count\n",
      "0    YouTube             58\n",
      "1     Google             50\n",
      "2   Referral             49\n",
      "3  Instagram             48\n",
      "4   Facebook             40\n",
      "5   LinkedIn             39\n",
      "6         ??              6\n"
     ]
    }
   ],
   "source": [
    "# Sign-ups by source\n",
    "signups_by_source = customer_signups['source'].value_counts().reset_index()\n",
    "signups_by_source.columns = ['source', 'signups_count']\n",
    "\n",
    "print(\"\\n----- Sign-ups By Source -----\")\n",
    "print(signups_by_source)"
   ]
  },
  {
   "cell_type": "code",
   "execution_count": 23,
   "id": "ab168e63-ecb5-45d8-a9de-5d3178a81e24",
   "metadata": {},
   "outputs": [
    {
     "name": "stdout",
     "output_type": "stream",
     "text": [
      "\n",
      "----- Sign-ups By Region -----\n",
      "    region  signups_count\n",
      "0    North             65\n",
      "1     East             61\n",
      "2    South             59\n",
      "3     West             45\n",
      "4  Central             39\n"
     ]
    }
   ],
   "source": [
    "# Sign-ups by region\n",
    "signups_by_region = customer_signups['region'].value_counts().reset_index()\n",
    "signups_by_region.columns = ['region', 'signups_count']\n",
    "\n",
    "print(\"\\n----- Sign-ups By Region -----\")\n",
    "print(signups_by_region)"
   ]
  },
  {
   "cell_type": "code",
   "execution_count": 24,
   "id": "fdc3795f-f90f-4bb9-bd95-da55fe22baeb",
   "metadata": {},
   "outputs": [
    {
     "name": "stdout",
     "output_type": "stream",
     "text": [
      "\n",
      "----- Sign-ups By Plan Selected -----\n",
      "  plan_selected  signups_count\n",
      "0       Premium             99\n",
      "1           Pro             94\n",
      "2         Basic             92\n",
      "3   Unknownplan              6\n"
     ]
    }
   ],
   "source": [
    "# Sign-ups by plan_selected\n",
    "signups_by_plan = customer_signups['plan_selected'].value_counts().reset_index()\n",
    "signups_by_plan.columns = ['plan_selected', 'signups_count']\n",
    "\n",
    "print(\"\\n----- Sign-ups By Plan Selected -----\")\n",
    "print(signups_by_plan)"
   ]
  },
  {
   "cell_type": "code",
   "execution_count": 25,
   "id": "d69cb4c4-04a0-4043-89e0-87bbc9455817",
   "metadata": {},
   "outputs": [
    {
     "name": "stdout",
     "output_type": "stream",
     "text": [
      "\n",
      "----- Marketing Opt-In Counts by Gender -----\n",
      "        gender marketing_opt_in  count\n",
      "0          123               No      3\n",
      "1          123              Yes      3\n",
      "2       Female               No     47\n",
      "3       Female              Yes     44\n",
      "4         Male              Nil      1\n",
      "5         Male               No     50\n",
      "6         Male              Yes     37\n",
      "7   Non-binary               No     20\n",
      "8   Non-binary              Yes     19\n",
      "9        Other               No     32\n",
      "10       Other              Yes     24\n"
     ]
    }
   ],
   "source": [
    "# Marketing opt-in counts by gender\n",
    "marketing_optin_by_gender = customer_signups.groupby(['gender', 'marketing_opt_in'])['customer_id'].count().reset_index()\n",
    "marketing_optin_by_gender.rename(columns={'customer_id': 'count'}, inplace=True)\n",
    "\n",
    "print(\"\\n----- Marketing Opt-In Counts by Gender -----\")\n",
    "print(marketing_optin_by_gender)"
   ]
  },
  {
   "cell_type": "code",
   "execution_count": 26,
   "id": "444b06d7-1f24-44ff-9029-de16d885186c",
   "metadata": {},
   "outputs": [
    {
     "name": "stdout",
     "output_type": "stream",
     "text": [
      "\n",
      "----- Final Marketing Opt-In Counts by Gender -----\n",
      "       gender marketing_opt_in  count\n",
      "0      Female               No     47\n",
      "1      Female              Yes     44\n",
      "2        Male               No     51\n",
      "3        Male              Yes     37\n",
      "4  Non-binary               No     20\n",
      "5  Non-binary              Yes     19\n",
      "6       Other               No     32\n",
      "7       Other              Yes     24\n",
      "8     Unknown               No      7\n",
      "9     Unknown              Yes      7\n"
     ]
    }
   ],
   "source": [
    "# Fix invalid gender entries\n",
    "valid_genders = ['Male', 'Female', 'Other', 'Non-binary']\n",
    "customer_signups['gender'] = customer_signups['gender'].apply(lambda x: x if x in valid_genders else 'Unknown')\n",
    "\n",
    "# Standardise marketing_opt_in values\n",
    "customer_signups['marketing_opt_in'] = customer_signups['marketing_opt_in'].str.strip().str.capitalize()\n",
    "customer_signups['marketing_opt_in'] = customer_signups['marketing_opt_in'].replace({'Nil': 'No'})\n",
    "\n",
    "marketing_optin_by_gender = customer_signups.groupby(['gender', 'marketing_opt_in'])['customer_id'].count().reset_index()\n",
    "marketing_optin_by_gender.rename(columns={'customer_id': 'count'}, inplace=True)\n",
    "\n",
    "print(\"\\n----- Final Marketing Opt-In Counts by Gender -----\")\n",
    "print(marketing_optin_by_gender)"
   ]
  },
  {
   "cell_type": "code",
   "execution_count": 27,
   "id": "42145e77-0ef7-4d67-87f9-62be04eddb91",
   "metadata": {},
   "outputs": [
    {
     "name": "stdout",
     "output_type": "stream",
     "text": [
      "\n",
      "----- Age Summary -----\n",
      "{'min': 21.0, 'max': 206.0, 'mean': np.float64(36.03678929765886), 'median': 34.0, 'null_count': np.int64(0)}\n"
     ]
    }
   ],
   "source": [
    "age_summary = {\n",
    "    'min': customer_signups['age'].min(),\n",
    "    'max': customer_signups['age'].max(),\n",
    "    'mean': customer_signups['age'].mean(),\n",
    "    'median': customer_signups['age'].median(),\n",
    "    'null_count': customer_signups['age'].isnull().sum()\n",
    "}\n",
    "\n",
    "print(\"\\n----- Age Summary -----\")\n",
    "print(age_summary)"
   ]
  },
  {
   "cell_type": "code",
   "execution_count": 28,
   "id": "f5e549e5-706f-4cbc-9241-145eecf52f32",
   "metadata": {},
   "outputs": [
    {
     "name": "stdout",
     "output_type": "stream",
     "text": [
      "    customer_id             name                  email signup_date    source  \\\n",
      "204   CUST00204  Patricia Powers  patricia4@mailhub.org  2024-07-23  Referral   \n",
      "\n",
      "    region plan_selected marketing_opt_in    age   gender  \\\n",
      "204  North         Basic               No  206.0  Unknown   \n",
      "\n",
      "               signup_week  \n",
      "204  2024-07-22/2024-07-28  \n"
     ]
    }
   ],
   "source": [
    "# Check rows with age > 100\n",
    "print(customer_signups[customer_signups['age'] > 100])"
   ]
  },
  {
   "cell_type": "code",
   "execution_count": 29,
   "id": "b119e8c2-490e-4bef-a674-7c37ca35e7a1",
   "metadata": {},
   "outputs": [],
   "source": [
    "customer_signups = customer_signups[customer_signups['customer_id'] != 'CUST00204']"
   ]
  },
  {
   "cell_type": "code",
   "execution_count": 30,
   "id": "bbe4c3af-2c58-41d1-a9d5-e5754becadfe",
   "metadata": {},
   "outputs": [
    {
     "name": "stdout",
     "output_type": "stream",
     "text": [
      "\n",
      "----- Final Age Summary -----\n",
      "{'min': 21.0, 'max': 60.0, 'mean': np.float64(35.466442953020135), 'median': 34.0, 'null_count': np.int64(0)}\n"
     ]
    }
   ],
   "source": [
    "age_summary = {\n",
    "    'min': customer_signups['age'].min(),\n",
    "    'max': customer_signups['age'].max(),\n",
    "    'mean': customer_signups['age'].mean(),\n",
    "    'median': customer_signups['age'].median(),\n",
    "    'null_count': customer_signups['age'].isnull().sum()\n",
    "}\n",
    "\n",
    "print(\"\\n----- Final Age Summary -----\")\n",
    "print(age_summary)"
   ]
  },
  {
   "cell_type": "markdown",
   "id": "f6b937a6-5072-4e3c-9c21-0eee063d08d0",
   "metadata": {},
   "source": [
    "# Task 4. Answer These Business Questions"
   ]
  },
  {
   "cell_type": "markdown",
   "id": "1a074598-59d5-426e-b57f-8f002c1360ed",
   "metadata": {},
   "source": [
    "## Task 4.1 – Which acquisition source brought in the most users last month?"
   ]
  },
  {
   "cell_type": "code",
   "execution_count": 31,
   "id": "1dc6625f-ffcb-4467-a764-0d4fc40b846a",
   "metadata": {},
   "outputs": [
    {
     "name": "stdout",
     "output_type": "stream",
     "text": [
      "----- Last Month's Acquisition Source -----\n",
      "      source  signups_count\n",
      "0  Instagram              4\n",
      "1   Referral              2\n",
      "2    YouTube              2\n",
      "3   Facebook              1\n",
      "4   LinkedIn              1\n"
     ]
    }
   ],
   "source": [
    "# Extract last month's date range\n",
    "latest_date = customer_signups['signup_date'].max()\n",
    "last_month = latest_date - pd.DateOffset(months=1)\n",
    "\n",
    "# Filter signups from last month\n",
    "last_month_signups = customer_signups[customer_signups['signup_date'] >= last_month]\n",
    "\n",
    "# Count by source\n",
    "most_users_source = last_month_signups['source'].value_counts().reset_index()\n",
    "most_users_source.columns = ['source', 'signups_count']\n",
    "\n",
    "print(\"----- Last Month's Acquisition Source -----\")\n",
    "print(most_users_source)"
   ]
  },
  {
   "cell_type": "markdown",
   "id": "8eda7189-a31f-4489-8da3-86ac4ec5298b",
   "metadata": {},
   "source": [
    "## Task 4.2 – Which region shows signs of missing or incomplete data?"
   ]
  },
  {
   "cell_type": "code",
   "execution_count": 32,
   "id": "0338b11b-2de4-4fea-babb-3f4ca70a53e0",
   "metadata": {},
   "outputs": [
    {
     "name": "stdout",
     "output_type": "stream",
     "text": [
      "----- Region vs Missing Data -----\n",
      "    region  count\n",
      "0    North     64\n",
      "1     East     61\n",
      "2    South     59\n",
      "3     West     45\n",
      "4  Central     39\n"
     ]
    }
   ],
   "source": [
    "# Check counts of 'Unknown' regions (assuming you replaced missing with 'Unknown')\n",
    "region_missing = customer_signups['region'].value_counts().reset_index()\n",
    "region_missing.columns = ['region', 'count']\n",
    "\n",
    "print(\"----- Region vs Missing Data -----\")\n",
    "print(region_missing)"
   ]
  },
  {
   "cell_type": "markdown",
   "id": "2068d432-47d4-40ff-af5c-6f16b410b688",
   "metadata": {},
   "source": [
    "## Task 4.3 – Are older users more or less likely to opt in to marketing?"
   ]
  },
  {
   "cell_type": "code",
   "execution_count": 33,
   "id": "efac75ad-7f3c-429e-9d8d-e628f802abab",
   "metadata": {},
   "outputs": [
    {
     "name": "stdout",
     "output_type": "stream",
     "text": [
      "----- Average Age by Marketing Opt-In -----\n",
      "  marketing_opt_in  average_age\n",
      "0               No    35.179487\n",
      "1              Yes    35.939394\n"
     ]
    }
   ],
   "source": [
    "marketing_age = customer_signups.groupby('marketing_opt_in')['age'].mean().reset_index()\n",
    "marketing_age.columns = ['marketing_opt_in', 'average_age']\n",
    "\n",
    "print(\"----- Average Age by Marketing Opt-In -----\")\n",
    "print(marketing_age)"
   ]
  },
  {
   "cell_type": "markdown",
   "id": "8b42536f-43b3-4881-a60e-777d6ea2432f",
   "metadata": {},
   "source": [
    "## Task 4.4 – Which plan is most commonly selected, and by which age group?"
   ]
  },
  {
   "cell_type": "code",
   "execution_count": 38,
   "id": "ac9109c9-98c2-4399-88b8-a0ab0a3d3f2d",
   "metadata": {},
   "outputs": [
    {
     "name": "stdout",
     "output_type": "stream",
     "text": [
      "----- Most Common Plan -----\n",
      "  plan_selected  count\n",
      "0       Premium     99\n",
      "1           Pro     94\n",
      "2         Basic     91\n",
      "3   Unknownplan      6\n",
      "----- Plan Selection by Age Group -----\n",
      "   age_group plan_selected  count\n",
      "0        <20         Basic      0\n",
      "1        <20       Premium      0\n",
      "2        <20           Pro      0\n",
      "3        <20   Unknownplan      0\n",
      "4      21-30         Basic     40\n",
      "5      21-30       Premium     37\n",
      "6      21-30           Pro     40\n",
      "7      21-30   Unknownplan      1\n",
      "8      31-40         Basic     21\n",
      "9      31-40       Premium     20\n",
      "10     31-40           Pro     19\n",
      "11     31-40   Unknownplan      1\n",
      "12     41-50         Basic     16\n",
      "13     41-50       Premium     32\n",
      "14     41-50           Pro     19\n",
      "15     41-50   Unknownplan      3\n",
      "16     51-60         Basic      9\n",
      "17     51-60       Premium      6\n",
      "18     51-60           Pro     11\n",
      "19     51-60   Unknownplan      1\n",
      "20       60+         Basic      5\n",
      "21       60+       Premium      4\n",
      "22       60+           Pro      4\n",
      "23       60+   Unknownplan      0\n"
     ]
    }
   ],
   "source": [
    "# Most commonly selected plan\n",
    "plan_counts = customer_signups['plan_selected'].value_counts().reset_index()\n",
    "plan_counts.columns = ['plan_selected', 'count']\n",
    "\n",
    "print(\"----- Most Common Plan -----\")\n",
    "print(plan_counts)\n",
    "\n",
    "bins = [0, 20, 30, 40, 50, 60, 100]\n",
    "labels = ['<20', '21-30', '31-40', '41-50', '51-60', '60+']\n",
    "customer_signups['age_group'] = pd.cut(customer_signups['age'], bins=bins, labels=labels, right=False)\n",
    "\n",
    "# Most common plan by age group\n",
    "plan_by_agegroup = customer_signups.groupby(['age_group', 'plan_selected'], observed=False)['customer_id'].count().reset_index()\n",
    "plan_by_agegroup.columns = ['age_group', 'plan_selected', 'count']\n",
    "\n",
    "print(\"----- Plan Selection by Age Group -----\")\n",
    "print(plan_by_agegroup)"
   ]
  },
  {
   "cell_type": "code",
   "execution_count": null,
   "id": "801781bf-ca15-4084-8f7b-97160def8f0d",
   "metadata": {},
   "outputs": [],
   "source": []
  }
 ],
 "metadata": {
  "kernelspec": {
   "display_name": "Python 3 (ipykernel)",
   "language": "python",
   "name": "python3"
  },
  "language_info": {
   "codemirror_mode": {
    "name": "ipython",
    "version": 3
   },
   "file_extension": ".py",
   "mimetype": "text/x-python",
   "name": "python",
   "nbconvert_exporter": "python",
   "pygments_lexer": "ipython3",
   "version": "3.12.11"
  }
 },
 "nbformat": 4,
 "nbformat_minor": 5
}
